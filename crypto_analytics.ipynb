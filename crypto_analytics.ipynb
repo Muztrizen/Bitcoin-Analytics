{
 "cells": [
  {
   "cell_type": "code",
   "execution_count": 201,
   "metadata": {},
   "outputs": [],
   "source": [
    "# https://griddb.net/en/blog/data-visualization-with-python-matplotlib-and-griddb/\n",
    "# https://www.statsmodels.org/stable/generated/statsmodels.tsa.seasonal.seasonal_decompose.html\n",
    "# https://dziganto.github.io/python/time%20series/Introduction-to-Time-Series/#:~:text=Trend%2C%20as%20its%20name%20suggests,them%20as%20a%20noise%20component."
   ]
  },
  {
   "cell_type": "code",
   "execution_count": 219,
   "metadata": {},
   "outputs": [],
   "source": [
    "import pandas as pd\n",
    "import numpy as np\n",
    "import matplotlib.pyplot as plt\n",
    "import os\n",
    "import csv\n",
    "\n",
    "from statsmodels.tsa.seasonal import seasonal_decompose\n",
    "import statsmodels.api as sm"
   ]
  },
  {
   "cell_type": "code",
   "execution_count": 220,
   "metadata": {},
   "outputs": [],
   "source": [
    "input_path = r'C:\\Users\\baharudin.ahmad\\Documents\\analytics\\bitcoin_analytics\\dataset'\n",
    "output_path = r'C:\\Users\\baharudin.ahmad\\Documents\\analytics\\bitcoin_analytics'\n",
    "\n",
    "file_1 = 'BTC_USD_yahoo_finance.csv'\n",
    "file_2 = 'ETH_USD_yahoo_finance.csv'\n",
    "file_3 = 'LTC_USD_yahoo_finance.csv'\n",
    "file_4 = 'XRP_USD_yahoo_finance.csv'\n",
    "file_5 = 'DOGE_USD_yahoo_finance.csv'\n",
    "\n",
    "df1 = pd.read_csv(os.path.join(input_path, file_1), encoding='utf-8')\n",
    "df2 = pd.read_csv(os.path.join(input_path, file_2), encoding='utf-8')\n",
    "df3 = pd.read_csv(os.path.join(input_path, file_3), encoding='utf-8')\n",
    "df4 = pd.read_csv(os.path.join(input_path, file_4), encoding='utf-8')\n",
    "df5 = pd.read_csv(os.path.join(input_path, file_5), encoding='utf-8')"
   ]
  },
  {
   "cell_type": "code",
   "execution_count": 221,
   "metadata": {
    "scrolled": false
   },
   "outputs": [
    {
     "name": "stdout",
     "output_type": "stream",
     "text": [
      "Date         0\n",
      "Open         4\n",
      "High         4\n",
      "Low          4\n",
      "Close        4\n",
      "Adj Close    4\n",
      "Volume       4\n",
      "dtype: int64\n",
      "Date         0\n",
      "Open         5\n",
      "High         5\n",
      "Low          5\n",
      "Close        5\n",
      "Adj Close    5\n",
      "Volume       5\n",
      "dtype: int64\n",
      "Date         0\n",
      "Open         5\n",
      "High         5\n",
      "Low          5\n",
      "Close        5\n",
      "Adj Close    5\n",
      "Volume       5\n",
      "dtype: int64\n",
      "Date         0\n",
      "Open         5\n",
      "High         5\n",
      "Low          5\n",
      "Close        5\n",
      "Adj Close    5\n",
      "Volume       5\n",
      "dtype: int64\n",
      "Date         0\n",
      "Open         5\n",
      "High         5\n",
      "Low          5\n",
      "Close        5\n",
      "Adj Close    5\n",
      "Volume       5\n",
      "dtype: int64\n"
     ]
    }
   ],
   "source": [
    "# Check null in dataset\n",
    "print(df1.isnull().sum())\n",
    "print(df2.isnull().sum())\n",
    "print(df3.isnull().sum())\n",
    "print(df4.isnull().sum())\n",
    "print(df5.isnull().sum())"
   ]
  },
  {
   "cell_type": "code",
   "execution_count": 222,
   "metadata": {},
   "outputs": [],
   "source": [
    "# Filter notnull data only\n",
    "df1 = df1[df1['Open'].notnull()]\n",
    "df2 = df2[df2['Open'].notnull()]\n",
    "df3 = df3[df3['Open'].notnull()]\n",
    "df4 = df4[df4['Open'].notnull()]\n",
    "df5 = df5[df5['Open'].notnull()]"
   ]
  },
  {
   "cell_type": "code",
   "execution_count": 223,
   "metadata": {},
   "outputs": [
    {
     "name": "stdout",
     "output_type": "stream",
     "text": [
      "Date         0\n",
      "Open         0\n",
      "High         0\n",
      "Low          0\n",
      "Close        0\n",
      "Adj Close    0\n",
      "Volume       0\n",
      "dtype: int64\n",
      "Date         0\n",
      "Open         0\n",
      "High         0\n",
      "Low          0\n",
      "Close        0\n",
      "Adj Close    0\n",
      "Volume       0\n",
      "dtype: int64\n",
      "Date         0\n",
      "Open         0\n",
      "High         0\n",
      "Low          0\n",
      "Close        0\n",
      "Adj Close    0\n",
      "Volume       0\n",
      "dtype: int64\n",
      "Date         0\n",
      "Open         0\n",
      "High         0\n",
      "Low          0\n",
      "Close        0\n",
      "Adj Close    0\n",
      "Volume       0\n",
      "dtype: int64\n",
      "Date         0\n",
      "Open         0\n",
      "High         0\n",
      "Low          0\n",
      "Close        0\n",
      "Adj Close    0\n",
      "Volume       0\n",
      "dtype: int64\n"
     ]
    }
   ],
   "source": [
    "# Reheck null in dataset\n",
    "print(df1.isnull().sum())\n",
    "print(df2.isnull().sum())\n",
    "print(df3.isnull().sum())\n",
    "print(df4.isnull().sum())\n",
    "print(df5.isnull().sum())"
   ]
  },
  {
   "cell_type": "code",
   "execution_count": 224,
   "metadata": {},
   "outputs": [],
   "source": [
    "# Convert date format from str to datetime\n",
    "df1['Date'] = pd.to_datetime(df1['Date'], format='%Y-%m-%d')\n",
    "df2['Date'] = pd.to_datetime(df2['Date'], format='%Y-%m-%d')\n",
    "df3['Date'] = pd.to_datetime(df3['Date'], format='%Y-%m-%d')\n",
    "df4['Date'] = pd.to_datetime(df4['Date'], format='%Y-%m-%d')\n",
    "df5['Date'] = pd.to_datetime(df5['Date'], format='%Y-%m-%d')"
   ]
  },
  {
   "cell_type": "code",
   "execution_count": 225,
   "metadata": {
    "scrolled": true
   },
   "outputs": [
    {
     "name": "stdout",
     "output_type": "stream",
     "text": [
      "<class 'pandas.core.frame.DataFrame'>\n",
      "Int64Index: 2350 entries, 0 to 2353\n",
      "Data columns (total 7 columns):\n",
      " #   Column     Non-Null Count  Dtype         \n",
      "---  ------     --------------  -----         \n",
      " 0   Date       2350 non-null   datetime64[ns]\n",
      " 1   Open       2350 non-null   float64       \n",
      " 2   High       2350 non-null   float64       \n",
      " 3   Low        2350 non-null   float64       \n",
      " 4   Close      2350 non-null   float64       \n",
      " 5   Adj Close  2350 non-null   float64       \n",
      " 6   Volume     2350 non-null   float64       \n",
      "dtypes: datetime64[ns](1), float64(6)\n",
      "memory usage: 146.9 KB\n",
      "None\n",
      "<class 'pandas.core.frame.DataFrame'>\n",
      "Int64Index: 2026 entries, 0 to 2030\n",
      "Data columns (total 7 columns):\n",
      " #   Column     Non-Null Count  Dtype         \n",
      "---  ------     --------------  -----         \n",
      " 0   Date       2026 non-null   datetime64[ns]\n",
      " 1   Open       2026 non-null   float64       \n",
      " 2   High       2026 non-null   float64       \n",
      " 3   Low        2026 non-null   float64       \n",
      " 4   Close      2026 non-null   float64       \n",
      " 5   Adj Close  2026 non-null   float64       \n",
      " 6   Volume     2026 non-null   float64       \n",
      "dtypes: datetime64[ns](1), float64(6)\n",
      "memory usage: 126.6 KB\n",
      "None\n",
      "<class 'pandas.core.frame.DataFrame'>\n",
      "Int64Index: 2350 entries, 0 to 2354\n",
      "Data columns (total 7 columns):\n",
      " #   Column     Non-Null Count  Dtype         \n",
      "---  ------     --------------  -----         \n",
      " 0   Date       2350 non-null   datetime64[ns]\n",
      " 1   Open       2350 non-null   float64       \n",
      " 2   High       2350 non-null   float64       \n",
      " 3   Low        2350 non-null   float64       \n",
      " 4   Close      2350 non-null   float64       \n",
      " 5   Adj Close  2350 non-null   float64       \n",
      " 6   Volume     2350 non-null   float64       \n",
      "dtypes: datetime64[ns](1), float64(6)\n",
      "memory usage: 146.9 KB\n",
      "None\n",
      "<class 'pandas.core.frame.DataFrame'>\n",
      "Int64Index: 2350 entries, 0 to 2354\n",
      "Data columns (total 7 columns):\n",
      " #   Column     Non-Null Count  Dtype         \n",
      "---  ------     --------------  -----         \n",
      " 0   Date       2350 non-null   datetime64[ns]\n",
      " 1   Open       2350 non-null   float64       \n",
      " 2   High       2350 non-null   float64       \n",
      " 3   Low        2350 non-null   float64       \n",
      " 4   Close      2350 non-null   float64       \n",
      " 5   Adj Close  2350 non-null   float64       \n",
      " 6   Volume     2350 non-null   float64       \n",
      "dtypes: datetime64[ns](1), float64(6)\n",
      "memory usage: 146.9 KB\n",
      "None\n",
      "<class 'pandas.core.frame.DataFrame'>\n",
      "Int64Index: 2350 entries, 0 to 2354\n",
      "Data columns (total 7 columns):\n",
      " #   Column     Non-Null Count  Dtype         \n",
      "---  ------     --------------  -----         \n",
      " 0   Date       2350 non-null   datetime64[ns]\n",
      " 1   Open       2350 non-null   float64       \n",
      " 2   High       2350 non-null   float64       \n",
      " 3   Low        2350 non-null   float64       \n",
      " 4   Close      2350 non-null   float64       \n",
      " 5   Adj Close  2350 non-null   float64       \n",
      " 6   Volume     2350 non-null   float64       \n",
      "dtypes: datetime64[ns](1), float64(6)\n",
      "memory usage: 146.9 KB\n",
      "None\n"
     ]
    }
   ],
   "source": [
    "# Check format\n",
    "print(df1.info())\n",
    "print(df2.info())\n",
    "print(df3.info())\n",
    "print(df4.info())\n",
    "print(df5.info())"
   ]
  },
  {
   "cell_type": "code",
   "execution_count": 226,
   "metadata": {},
   "outputs": [],
   "source": [
    "# Set date as data index\n",
    "df1 = df1.set_index(\"Date\")\n",
    "df2 = df2.set_index(\"Date\")\n",
    "df3 = df3.set_index(\"Date\")\n",
    "df4 = df4.set_index(\"Date\")\n",
    "df5 = df5.set_index(\"Date\")"
   ]
  },
  {
   "cell_type": "code",
   "execution_count": 227,
   "metadata": {},
   "outputs": [],
   "source": [
    "df1['Crypto'] = 'BTC'\n",
    "df2['Crypto'] = 'ETH'\n",
    "df3['Crypto'] = 'LTC'\n",
    "df4['Crypto'] = 'XRP'\n",
    "df5['Crypto'] = 'DOGE'"
   ]
  },
  {
   "cell_type": "code",
   "execution_count": 232,
   "metadata": {},
   "outputs": [
    {
     "data": {
      "text/plain": [
       "<seaborn.axisgrid.FacetGrid at 0x1fb0b562580>"
      ]
     },
     "execution_count": 232,
     "metadata": {},
     "output_type": "execute_result"
    },
    {
     "data": {
      "image/png": "[encoded data removed]",
      "text/plain": [
       "<Figure size 425.5x360 with 1 Axes>"
      ]
     },
     "metadata": {
      "needs_background": "light"
     },
     "output_type": "display_data"
    }
   ],
   "source": [
    "df = pd.concat([df1, df2, df3, df4, df5])\n",
    "sns.relplot(data=df, x = 'Date', y = 'Close', kind = 'line', hue = 'Crypto')"
   ]
  },
  {
   "cell_type": "code",
   "execution_count": 233,
   "metadata": {},
   "outputs": [
    {
     "data": {
      "text/plain": [
       "<seaborn.axisgrid.FacetGrid at 0x1fb0e2fe8e0>"
      ]
     },
     "execution_count": 233,
     "metadata": {},
     "output_type": "execute_result"
    },
    {
     "data": {
      "image/png": "[encoded data removed]",
      "text/plain": [
       "<Figure size 425.5x360 with 1 Axes>"
      ]
     },
     "metadata": {
      "needs_background": "light"
     },
     "output_type": "display_data"
    }
   ],
   "source": [
    "df = pd.concat([df2, df3, df4, df5])\n",
    "sns.relplot(data=df, x = 'Date', y = 'Close', kind = 'line', hue = 'Crypto')"
   ]
  },
  {
   "cell_type": "code",
   "execution_count": 234,
   "metadata": {},
   "outputs": [
    {
     "data": {
      "text/plain": [
       "<seaborn.axisgrid.FacetGrid at 0x1fb01e4e7f0>"
      ]
     },
     "execution_count": 234,
     "metadata": {},
     "output_type": "execute_result"
    },
    {
     "data": {
      "image/png": "[encoded data removed]",
      "text/plain": [
       "<Figure size 425.5x360 with 1 Axes>"
      ]
     },
     "metadata": {
      "needs_background": "light"
     },
     "output_type": "display_data"
    }
   ],
   "source": [
    "df = pd.concat([df4, df5])\n",
    "sns.relplot(data=df, x = 'Date', y = 'Close', kind = 'line', hue = 'Crypto')"
   ]
  },
  {
   "cell_type": "code",
   "execution_count": null,
   "metadata": {},
   "outputs": [],
   "source": []
  }
 ],
 "metadata": {
  "kernelspec": {
   "display_name": "Python 3",
   "language": "python",
   "name": "python3"
  },
  "language_info": {
   "codemirror_mode": {
    "name": "ipython",
    "version": 3
   },
   "file_extension": ".py",
   "mimetype": "text/x-python",
   "name": "python",
   "nbconvert_exporter": "python",
   "pygments_lexer": "ipython3",
   "version": "3.8.5"
  }
 },
 "nbformat": 4,
 "nbformat_minor": 4
}
